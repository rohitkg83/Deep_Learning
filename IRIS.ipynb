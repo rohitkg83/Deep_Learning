{
  "nbformat": 4,
  "nbformat_minor": 0,
  "metadata": {
    "colab": {
      "name": "IRIS.ipynb",
      "provenance": [],
      "authorship_tag": "ABX9TyO94zWIrXjBETU+i/nL5fGC",
      "include_colab_link": true
    },
    "kernelspec": {
      "name": "python3",
      "display_name": "Python 3"
    },
    "language_info": {
      "name": "python"
    }
  },
  "cells": [
    {
      "cell_type": "markdown",
      "metadata": {
        "id": "view-in-github",
        "colab_type": "text"
      },
      "source": [
        "<a href=\"https://colab.research.google.com/github/rohitkg83/Deep_Learning/blob/main/IRIS.ipynb\" target=\"_parent\"><img src=\"https://colab.research.google.com/assets/colab-badge.svg\" alt=\"Open In Colab\"/></a>"
      ]
    },
    {
      "cell_type": "markdown",
      "source": [
        "# Deep Learning Model for predicting IRIS types\n",
        "\n",
        "This notebook aims to use neural networks for building a model that can predict three different types of irises - **Setosa, Versicolour and Virginica** from Sepal length, Sepal width, Petal length and Petal width. The dataset has been imported from scikit-learn and it has in total 150 observations. Tensorflow keras has been used for building the model."
      ],
      "metadata": {
        "id": "ZQIoojZfQphg"
      }
    },
    {
      "cell_type": "code",
      "execution_count": 1,
      "metadata": {
        "id": "-ib5U5nCKB-M"
      },
      "outputs": [],
      "source": [
        "# Importing required libraries\n",
        "import numpy as np\n",
        "import matplotlib.pyplot as plt\n",
        "import seaborn as sns\n",
        "\n",
        "from sklearn import datasets\n",
        "from sklearn.model_selection import train_test_split\n",
        "\n",
        "import tensorflow as tf\n",
        "import keras\n",
        "from keras.layers import Dense\n",
        "from keras.models import Sequential\n",
        "from keras.utils.np_utils import to_categorical"
      ]
    },
    {
      "cell_type": "code",
      "source": [
        "# Setting up the seed for random number generators so that model reproduces same output when code is run\n",
        "np.random.seed(42)\n",
        "import random\n",
        "random.seed(42)\n",
        "tf.random.set_seed(42)"
      ],
      "metadata": {
        "id": "IqUfMddYF6XG"
      },
      "execution_count": 2,
      "outputs": []
    },
    {
      "cell_type": "code",
      "source": [
        "# load dataset into iris and set-up predictor and target variables\n",
        "iris = datasets.load_iris()\n",
        "X = iris.data[:]\n",
        "y = to_categorical(iris.target) # to_categorical performs onhot encoding of target variable"
      ],
      "metadata": {
        "id": "XlmmPCaTK3Sc"
      },
      "execution_count": 3,
      "outputs": []
    },
    {
      "cell_type": "code",
      "source": [
        "# Verify shape of predictor\n",
        "X.shape"
      ],
      "metadata": {
        "colab": {
          "base_uri": "https://localhost:8080/"
        },
        "id": "nhFQhZSV6b5z",
        "outputId": "efaac9e5-f526-4c86-aea9-be6f26535ead"
      },
      "execution_count": 4,
      "outputs": [
        {
          "output_type": "execute_result",
          "data": {
            "text/plain": [
              "(150, 4)"
            ]
          },
          "metadata": {},
          "execution_count": 4
        }
      ]
    },
    {
      "cell_type": "code",
      "source": [
        "# Store number of predictor attributes in a variable\n",
        "n_cols = X.shape[1]"
      ],
      "metadata": {
        "id": "OjhVTX5JqyFA"
      },
      "execution_count": 5,
      "outputs": []
    },
    {
      "cell_type": "code",
      "source": [
        "# Verify shape of target\n",
        "y.shape"
      ],
      "metadata": {
        "colab": {
          "base_uri": "https://localhost:8080/"
        },
        "id": "vYvXrEr_XGFX",
        "outputId": "74c06856-4446-413c-e7ab-297e24e5c949"
      },
      "execution_count": 6,
      "outputs": [
        {
          "output_type": "execute_result",
          "data": {
            "text/plain": [
              "(150, 3)"
            ]
          },
          "metadata": {},
          "execution_count": 6
        }
      ]
    },
    {
      "cell_type": "code",
      "source": [
        "#Splitting the dataset into train and test data\n",
        "X_train, X_test, y_train, y_test =  train_test_split(X, y, test_size=0.2, random_state=42)"
      ],
      "metadata": {
        "id": "hwuvChMB6Eyp"
      },
      "execution_count": 7,
      "outputs": []
    },
    {
      "cell_type": "code",
      "source": [
        "# Set up model\n",
        "model = Sequential()\n",
        "\n",
        "# Add hidden layer with 32 nodes and use relu activation function\n",
        "model.add(Dense(32, activation='relu', input_shape=(n_cols,)))\n",
        "\n",
        "# Add output layer and use softmax activation function\n",
        "model.add(Dense(3, activation='softmax'))\n",
        "\n",
        "# Compile the model using 'adam' optimizer, 'categorical_crossentropy' as loss function and 'accuracy' as the metrics for model performance\n",
        "model.compile(optimizer='adam', loss = 'categorical_crossentropy', metrics = ['accuracy'])\n",
        "\n",
        "# Fit the model: use batch_size = 50 and epochs = 200\n",
        "history = model.fit(X,y, batch_size=50, epochs=200, validation_split=0.1)"
      ],
      "metadata": {
        "colab": {
          "base_uri": "https://localhost:8080/"
        },
        "id": "XexvHx9ZUR4d",
        "outputId": "9a047c31-bba2-4ff3-bf81-76a8fbc9affc"
      },
      "execution_count": 8,
      "outputs": [
        {
          "output_type": "stream",
          "name": "stdout",
          "text": [
            "Epoch 1/200\n",
            "3/3 [==============================] - 2s 330ms/step - loss: 2.3876 - accuracy: 0.2593 - val_loss: 0.0698 - val_accuracy: 1.0000\n",
            "Epoch 2/200\n",
            "3/3 [==============================] - 0s 26ms/step - loss: 2.1632 - accuracy: 0.2593 - val_loss: 0.1010 - val_accuracy: 1.0000\n",
            "Epoch 3/200\n",
            "3/3 [==============================] - 0s 39ms/step - loss: 1.9618 - accuracy: 0.2593 - val_loss: 0.1440 - val_accuracy: 1.0000\n",
            "Epoch 4/200\n",
            "3/3 [==============================] - 0s 59ms/step - loss: 1.7693 - accuracy: 0.2593 - val_loss: 0.2008 - val_accuracy: 1.0000\n",
            "Epoch 5/200\n",
            "3/3 [==============================] - 0s 26ms/step - loss: 1.6029 - accuracy: 0.2593 - val_loss: 0.2732 - val_accuracy: 1.0000\n",
            "Epoch 6/200\n",
            "3/3 [==============================] - 0s 30ms/step - loss: 1.4613 - accuracy: 0.2593 - val_loss: 0.3618 - val_accuracy: 1.0000\n",
            "Epoch 7/200\n",
            "3/3 [==============================] - 0s 23ms/step - loss: 1.3335 - accuracy: 0.2593 - val_loss: 0.4668 - val_accuracy: 1.0000\n",
            "Epoch 8/200\n",
            "3/3 [==============================] - 0s 35ms/step - loss: 1.2374 - accuracy: 0.2593 - val_loss: 0.5823 - val_accuracy: 1.0000\n",
            "Epoch 9/200\n",
            "3/3 [==============================] - 0s 49ms/step - loss: 1.1532 - accuracy: 0.2593 - val_loss: 0.6985 - val_accuracy: 1.0000\n",
            "Epoch 10/200\n",
            "3/3 [==============================] - 0s 52ms/step - loss: 1.0969 - accuracy: 0.2593 - val_loss: 0.8112 - val_accuracy: 0.8667\n",
            "Epoch 11/200\n",
            "3/3 [==============================] - 0s 64ms/step - loss: 1.0499 - accuracy: 0.2296 - val_loss: 0.9065 - val_accuracy: 0.0000e+00\n",
            "Epoch 12/200\n",
            "3/3 [==============================] - 0s 43ms/step - loss: 1.0145 - accuracy: 0.3407 - val_loss: 0.9819 - val_accuracy: 0.0000e+00\n",
            "Epoch 13/200\n",
            "3/3 [==============================] - 0s 38ms/step - loss: 0.9833 - accuracy: 0.4370 - val_loss: 1.0377 - val_accuracy: 0.0000e+00\n",
            "Epoch 14/200\n",
            "3/3 [==============================] - 0s 32ms/step - loss: 0.9568 - accuracy: 0.6444 - val_loss: 1.0610 - val_accuracy: 0.0000e+00\n",
            "Epoch 15/200\n",
            "3/3 [==============================] - 0s 48ms/step - loss: 0.9293 - accuracy: 0.7407 - val_loss: 1.0675 - val_accuracy: 0.0000e+00\n",
            "Epoch 16/200\n",
            "3/3 [==============================] - 0s 25ms/step - loss: 0.9052 - accuracy: 0.7407 - val_loss: 1.0665 - val_accuracy: 0.0000e+00\n",
            "Epoch 17/200\n",
            "3/3 [==============================] - 0s 30ms/step - loss: 0.8819 - accuracy: 0.7407 - val_loss: 1.0429 - val_accuracy: 0.0000e+00\n",
            "Epoch 18/200\n",
            "3/3 [==============================] - 0s 34ms/step - loss: 0.8585 - accuracy: 0.7407 - val_loss: 1.0213 - val_accuracy: 0.0000e+00\n",
            "Epoch 19/200\n",
            "3/3 [==============================] - 0s 29ms/step - loss: 0.8374 - accuracy: 0.7407 - val_loss: 0.9864 - val_accuracy: 0.0000e+00\n",
            "Epoch 20/200\n",
            "3/3 [==============================] - 0s 31ms/step - loss: 0.8175 - accuracy: 0.7407 - val_loss: 0.9492 - val_accuracy: 0.0000e+00\n",
            "Epoch 21/200\n",
            "3/3 [==============================] - 0s 29ms/step - loss: 0.8001 - accuracy: 0.7407 - val_loss: 0.9112 - val_accuracy: 0.0000e+00\n",
            "Epoch 22/200\n",
            "3/3 [==============================] - 0s 27ms/step - loss: 0.7849 - accuracy: 0.7407 - val_loss: 0.8828 - val_accuracy: 0.0000e+00\n",
            "Epoch 23/200\n",
            "3/3 [==============================] - 0s 33ms/step - loss: 0.7702 - accuracy: 0.7481 - val_loss: 0.8625 - val_accuracy: 0.0000e+00\n",
            "Epoch 24/200\n",
            "3/3 [==============================] - 0s 31ms/step - loss: 0.7571 - accuracy: 0.7556 - val_loss: 0.8493 - val_accuracy: 0.0000e+00\n",
            "Epoch 25/200\n",
            "3/3 [==============================] - 0s 29ms/step - loss: 0.7445 - accuracy: 0.7556 - val_loss: 0.8385 - val_accuracy: 0.0000e+00\n",
            "Epoch 26/200\n",
            "3/3 [==============================] - 0s 25ms/step - loss: 0.7326 - accuracy: 0.7778 - val_loss: 0.8303 - val_accuracy: 0.0000e+00\n",
            "Epoch 27/200\n",
            "3/3 [==============================] - 0s 29ms/step - loss: 0.7211 - accuracy: 0.7852 - val_loss: 0.8230 - val_accuracy: 0.0000e+00\n",
            "Epoch 28/200\n",
            "3/3 [==============================] - 0s 52ms/step - loss: 0.7096 - accuracy: 0.7926 - val_loss: 0.8181 - val_accuracy: 0.0000e+00\n",
            "Epoch 29/200\n",
            "3/3 [==============================] - 0s 20ms/step - loss: 0.6984 - accuracy: 0.7926 - val_loss: 0.8233 - val_accuracy: 0.0000e+00\n",
            "Epoch 30/200\n",
            "3/3 [==============================] - 0s 43ms/step - loss: 0.6883 - accuracy: 0.7704 - val_loss: 0.8286 - val_accuracy: 0.0000e+00\n",
            "Epoch 31/200\n",
            "3/3 [==============================] - 0s 27ms/step - loss: 0.6784 - accuracy: 0.7704 - val_loss: 0.8224 - val_accuracy: 0.0000e+00\n",
            "Epoch 32/200\n",
            "3/3 [==============================] - 0s 33ms/step - loss: 0.6687 - accuracy: 0.7556 - val_loss: 0.8293 - val_accuracy: 0.0000e+00\n",
            "Epoch 33/200\n",
            "3/3 [==============================] - 0s 43ms/step - loss: 0.6595 - accuracy: 0.7556 - val_loss: 0.8345 - val_accuracy: 0.0000e+00\n",
            "Epoch 34/200\n",
            "3/3 [==============================] - 0s 24ms/step - loss: 0.6505 - accuracy: 0.7556 - val_loss: 0.8299 - val_accuracy: 0.0000e+00\n",
            "Epoch 35/200\n",
            "3/3 [==============================] - 0s 19ms/step - loss: 0.6419 - accuracy: 0.7556 - val_loss: 0.8231 - val_accuracy: 0.0000e+00\n",
            "Epoch 36/200\n",
            "3/3 [==============================] - 0s 34ms/step - loss: 0.6334 - accuracy: 0.7630 - val_loss: 0.8115 - val_accuracy: 0.0000e+00\n",
            "Epoch 37/200\n",
            "3/3 [==============================] - 0s 26ms/step - loss: 0.6250 - accuracy: 0.7630 - val_loss: 0.8034 - val_accuracy: 0.0000e+00\n",
            "Epoch 38/200\n",
            "3/3 [==============================] - 0s 43ms/step - loss: 0.6172 - accuracy: 0.7778 - val_loss: 0.7887 - val_accuracy: 0.0000e+00\n",
            "Epoch 39/200\n",
            "3/3 [==============================] - 0s 36ms/step - loss: 0.6094 - accuracy: 0.8074 - val_loss: 0.7780 - val_accuracy: 0.0000e+00\n",
            "Epoch 40/200\n",
            "3/3 [==============================] - 0s 26ms/step - loss: 0.6017 - accuracy: 0.8296 - val_loss: 0.7672 - val_accuracy: 0.2667\n",
            "Epoch 41/200\n",
            "3/3 [==============================] - 0s 29ms/step - loss: 0.5944 - accuracy: 0.8519 - val_loss: 0.7517 - val_accuracy: 0.4000\n",
            "Epoch 42/200\n",
            "3/3 [==============================] - 0s 30ms/step - loss: 0.5872 - accuracy: 0.8889 - val_loss: 0.7433 - val_accuracy: 0.4000\n",
            "Epoch 43/200\n",
            "3/3 [==============================] - 0s 21ms/step - loss: 0.5802 - accuracy: 0.9111 - val_loss: 0.7339 - val_accuracy: 0.4667\n",
            "Epoch 44/200\n",
            "3/3 [==============================] - 0s 48ms/step - loss: 0.5735 - accuracy: 0.9481 - val_loss: 0.7259 - val_accuracy: 0.6000\n",
            "Epoch 45/200\n",
            "3/3 [==============================] - 0s 30ms/step - loss: 0.5670 - accuracy: 0.9481 - val_loss: 0.7220 - val_accuracy: 0.6000\n",
            "Epoch 46/200\n",
            "3/3 [==============================] - 0s 27ms/step - loss: 0.5606 - accuracy: 0.9407 - val_loss: 0.7212 - val_accuracy: 0.6000\n",
            "Epoch 47/200\n",
            "3/3 [==============================] - 0s 44ms/step - loss: 0.5543 - accuracy: 0.9407 - val_loss: 0.7188 - val_accuracy: 0.6000\n",
            "Epoch 48/200\n",
            "3/3 [==============================] - 0s 31ms/step - loss: 0.5483 - accuracy: 0.9333 - val_loss: 0.7159 - val_accuracy: 0.6000\n",
            "Epoch 49/200\n",
            "3/3 [==============================] - 0s 36ms/step - loss: 0.5427 - accuracy: 0.9407 - val_loss: 0.7047 - val_accuracy: 0.6667\n",
            "Epoch 50/200\n",
            "3/3 [==============================] - 0s 47ms/step - loss: 0.5367 - accuracy: 0.9481 - val_loss: 0.7054 - val_accuracy: 0.6000\n",
            "Epoch 51/200\n",
            "3/3 [==============================] - 0s 43ms/step - loss: 0.5311 - accuracy: 0.9481 - val_loss: 0.7028 - val_accuracy: 0.6000\n",
            "Epoch 52/200\n",
            "3/3 [==============================] - 0s 73ms/step - loss: 0.5257 - accuracy: 0.9481 - val_loss: 0.7028 - val_accuracy: 0.6000\n",
            "Epoch 53/200\n",
            "3/3 [==============================] - 0s 29ms/step - loss: 0.5207 - accuracy: 0.9333 - val_loss: 0.7110 - val_accuracy: 0.5333\n",
            "Epoch 54/200\n",
            "3/3 [==============================] - 0s 27ms/step - loss: 0.5154 - accuracy: 0.9333 - val_loss: 0.7170 - val_accuracy: 0.4667\n",
            "Epoch 55/200\n",
            "3/3 [==============================] - 0s 44ms/step - loss: 0.5104 - accuracy: 0.9185 - val_loss: 0.7135 - val_accuracy: 0.4667\n",
            "Epoch 56/200\n",
            "3/3 [==============================] - 0s 31ms/step - loss: 0.5055 - accuracy: 0.9185 - val_loss: 0.7114 - val_accuracy: 0.4667\n",
            "Epoch 57/200\n",
            "3/3 [==============================] - 0s 66ms/step - loss: 0.5014 - accuracy: 0.9185 - val_loss: 0.7088 - val_accuracy: 0.5333\n",
            "Epoch 58/200\n",
            "3/3 [==============================] - 0s 22ms/step - loss: 0.4958 - accuracy: 0.9333 - val_loss: 0.6860 - val_accuracy: 0.6667\n",
            "Epoch 59/200\n",
            "3/3 [==============================] - 0s 31ms/step - loss: 0.4915 - accuracy: 0.9407 - val_loss: 0.6614 - val_accuracy: 0.9333\n",
            "Epoch 60/200\n",
            "3/3 [==============================] - 0s 37ms/step - loss: 0.4873 - accuracy: 0.9481 - val_loss: 0.6456 - val_accuracy: 0.9333\n",
            "Epoch 61/200\n",
            "3/3 [==============================] - 0s 57ms/step - loss: 0.4828 - accuracy: 0.9704 - val_loss: 0.6430 - val_accuracy: 0.9333\n",
            "Epoch 62/200\n",
            "3/3 [==============================] - 0s 39ms/step - loss: 0.4785 - accuracy: 0.9630 - val_loss: 0.6436 - val_accuracy: 0.9333\n",
            "Epoch 63/200\n",
            "3/3 [==============================] - 0s 44ms/step - loss: 0.4743 - accuracy: 0.9407 - val_loss: 0.6455 - val_accuracy: 0.9333\n",
            "Epoch 64/200\n",
            "3/3 [==============================] - 0s 24ms/step - loss: 0.4701 - accuracy: 0.9407 - val_loss: 0.6462 - val_accuracy: 0.9333\n",
            "Epoch 65/200\n",
            "3/3 [==============================] - 0s 25ms/step - loss: 0.4659 - accuracy: 0.9407 - val_loss: 0.6561 - val_accuracy: 0.8667\n",
            "Epoch 66/200\n",
            "3/3 [==============================] - 0s 26ms/step - loss: 0.4620 - accuracy: 0.9407 - val_loss: 0.6673 - val_accuracy: 0.7333\n",
            "Epoch 67/200\n",
            "3/3 [==============================] - 0s 33ms/step - loss: 0.4585 - accuracy: 0.9407 - val_loss: 0.6736 - val_accuracy: 0.7333\n",
            "Epoch 68/200\n",
            "3/3 [==============================] - 0s 38ms/step - loss: 0.4546 - accuracy: 0.9407 - val_loss: 0.6687 - val_accuracy: 0.7333\n",
            "Epoch 69/200\n",
            "3/3 [==============================] - 0s 22ms/step - loss: 0.4512 - accuracy: 0.9407 - val_loss: 0.6488 - val_accuracy: 0.8667\n",
            "Epoch 70/200\n",
            "3/3 [==============================] - 0s 47ms/step - loss: 0.4470 - accuracy: 0.9407 - val_loss: 0.6412 - val_accuracy: 0.9333\n",
            "Epoch 71/200\n",
            "3/3 [==============================] - 0s 23ms/step - loss: 0.4435 - accuracy: 0.9407 - val_loss: 0.6269 - val_accuracy: 0.9333\n",
            "Epoch 72/200\n",
            "3/3 [==============================] - 0s 25ms/step - loss: 0.4398 - accuracy: 0.9407 - val_loss: 0.6216 - val_accuracy: 0.9333\n",
            "Epoch 73/200\n",
            "3/3 [==============================] - 0s 38ms/step - loss: 0.4365 - accuracy: 0.9407 - val_loss: 0.6179 - val_accuracy: 0.9333\n",
            "Epoch 74/200\n",
            "3/3 [==============================] - 0s 34ms/step - loss: 0.4331 - accuracy: 0.9556 - val_loss: 0.6046 - val_accuracy: 0.9333\n",
            "Epoch 75/200\n",
            "3/3 [==============================] - 0s 70ms/step - loss: 0.4299 - accuracy: 0.9778 - val_loss: 0.5944 - val_accuracy: 0.9333\n",
            "Epoch 76/200\n",
            "3/3 [==============================] - 0s 37ms/step - loss: 0.4262 - accuracy: 0.9778 - val_loss: 0.5979 - val_accuracy: 0.9333\n",
            "Epoch 77/200\n",
            "3/3 [==============================] - 0s 24ms/step - loss: 0.4230 - accuracy: 0.9630 - val_loss: 0.6041 - val_accuracy: 0.9333\n",
            "Epoch 78/200\n",
            "3/3 [==============================] - 0s 27ms/step - loss: 0.4200 - accuracy: 0.9481 - val_loss: 0.6167 - val_accuracy: 0.9333\n",
            "Epoch 79/200\n",
            "3/3 [==============================] - 0s 48ms/step - loss: 0.4166 - accuracy: 0.9407 - val_loss: 0.6126 - val_accuracy: 0.9333\n",
            "Epoch 80/200\n",
            "3/3 [==============================] - 0s 25ms/step - loss: 0.4134 - accuracy: 0.9407 - val_loss: 0.6141 - val_accuracy: 0.9333\n",
            "Epoch 81/200\n",
            "3/3 [==============================] - 0s 42ms/step - loss: 0.4102 - accuracy: 0.9407 - val_loss: 0.6092 - val_accuracy: 0.9333\n",
            "Epoch 82/200\n",
            "3/3 [==============================] - 0s 38ms/step - loss: 0.4073 - accuracy: 0.9407 - val_loss: 0.6018 - val_accuracy: 0.9333\n",
            "Epoch 83/200\n",
            "3/3 [==============================] - 0s 35ms/step - loss: 0.4041 - accuracy: 0.9407 - val_loss: 0.5931 - val_accuracy: 0.9333\n",
            "Epoch 84/200\n",
            "3/3 [==============================] - 0s 34ms/step - loss: 0.4013 - accuracy: 0.9481 - val_loss: 0.5760 - val_accuracy: 0.9333\n",
            "Epoch 85/200\n",
            "3/3 [==============================] - 0s 28ms/step - loss: 0.3983 - accuracy: 0.9704 - val_loss: 0.5723 - val_accuracy: 0.9333\n",
            "Epoch 86/200\n",
            "3/3 [==============================] - 0s 29ms/step - loss: 0.3960 - accuracy: 0.9704 - val_loss: 0.5646 - val_accuracy: 0.9333\n",
            "Epoch 87/200\n",
            "3/3 [==============================] - 0s 28ms/step - loss: 0.3923 - accuracy: 0.9704 - val_loss: 0.5741 - val_accuracy: 0.9333\n",
            "Epoch 88/200\n",
            "3/3 [==============================] - 0s 60ms/step - loss: 0.3894 - accuracy: 0.9556 - val_loss: 0.5822 - val_accuracy: 0.9333\n",
            "Epoch 89/200\n",
            "3/3 [==============================] - 0s 70ms/step - loss: 0.3871 - accuracy: 0.9407 - val_loss: 0.5941 - val_accuracy: 0.9333\n",
            "Epoch 90/200\n",
            "3/3 [==============================] - 0s 37ms/step - loss: 0.3842 - accuracy: 0.9407 - val_loss: 0.5849 - val_accuracy: 0.9333\n",
            "Epoch 91/200\n",
            "3/3 [==============================] - 0s 35ms/step - loss: 0.3812 - accuracy: 0.9407 - val_loss: 0.5794 - val_accuracy: 0.9333\n",
            "Epoch 92/200\n",
            "3/3 [==============================] - 0s 34ms/step - loss: 0.3786 - accuracy: 0.9407 - val_loss: 0.5790 - val_accuracy: 0.9333\n",
            "Epoch 93/200\n",
            "3/3 [==============================] - 0s 41ms/step - loss: 0.3758 - accuracy: 0.9407 - val_loss: 0.5702 - val_accuracy: 0.9333\n",
            "Epoch 94/200\n",
            "3/3 [==============================] - 0s 41ms/step - loss: 0.3730 - accuracy: 0.9481 - val_loss: 0.5585 - val_accuracy: 0.9333\n",
            "Epoch 95/200\n",
            "3/3 [==============================] - 0s 55ms/step - loss: 0.3707 - accuracy: 0.9630 - val_loss: 0.5443 - val_accuracy: 0.9333\n",
            "Epoch 96/200\n",
            "3/3 [==============================] - 0s 59ms/step - loss: 0.3679 - accuracy: 0.9704 - val_loss: 0.5386 - val_accuracy: 1.0000\n",
            "Epoch 97/200\n",
            "3/3 [==============================] - 0s 69ms/step - loss: 0.3654 - accuracy: 0.9704 - val_loss: 0.5403 - val_accuracy: 0.9333\n",
            "Epoch 98/200\n",
            "3/3 [==============================] - 0s 33ms/step - loss: 0.3628 - accuracy: 0.9704 - val_loss: 0.5335 - val_accuracy: 1.0000\n",
            "Epoch 99/200\n",
            "3/3 [==============================] - 0s 32ms/step - loss: 0.3602 - accuracy: 0.9704 - val_loss: 0.5373 - val_accuracy: 0.9333\n",
            "Epoch 100/200\n",
            "3/3 [==============================] - 0s 61ms/step - loss: 0.3577 - accuracy: 0.9704 - val_loss: 0.5427 - val_accuracy: 0.9333\n",
            "Epoch 101/200\n",
            "3/3 [==============================] - 0s 67ms/step - loss: 0.3554 - accuracy: 0.9556 - val_loss: 0.5472 - val_accuracy: 0.9333\n",
            "Epoch 102/200\n",
            "3/3 [==============================] - 0s 34ms/step - loss: 0.3527 - accuracy: 0.9556 - val_loss: 0.5378 - val_accuracy: 0.9333\n",
            "Epoch 103/200\n",
            "3/3 [==============================] - 0s 29ms/step - loss: 0.3506 - accuracy: 0.9630 - val_loss: 0.5224 - val_accuracy: 1.0000\n",
            "Epoch 104/200\n",
            "3/3 [==============================] - 0s 27ms/step - loss: 0.3481 - accuracy: 0.9704 - val_loss: 0.5229 - val_accuracy: 0.9333\n",
            "Epoch 105/200\n",
            "3/3 [==============================] - 0s 33ms/step - loss: 0.3454 - accuracy: 0.9704 - val_loss: 0.5193 - val_accuracy: 0.9333\n",
            "Epoch 106/200\n",
            "3/3 [==============================] - 0s 50ms/step - loss: 0.3431 - accuracy: 0.9778 - val_loss: 0.5091 - val_accuracy: 1.0000\n",
            "Epoch 107/200\n",
            "3/3 [==============================] - 0s 70ms/step - loss: 0.3408 - accuracy: 0.9778 - val_loss: 0.5064 - val_accuracy: 1.0000\n",
            "Epoch 108/200\n",
            "3/3 [==============================] - 0s 29ms/step - loss: 0.3385 - accuracy: 0.9778 - val_loss: 0.5089 - val_accuracy: 1.0000\n",
            "Epoch 109/200\n",
            "3/3 [==============================] - 0s 25ms/step - loss: 0.3362 - accuracy: 0.9704 - val_loss: 0.5102 - val_accuracy: 0.9333\n",
            "Epoch 110/200\n",
            "3/3 [==============================] - 0s 25ms/step - loss: 0.3337 - accuracy: 0.9704 - val_loss: 0.5127 - val_accuracy: 0.9333\n",
            "Epoch 111/200\n",
            "3/3 [==============================] - 0s 48ms/step - loss: 0.3319 - accuracy: 0.9630 - val_loss: 0.5248 - val_accuracy: 0.9333\n",
            "Epoch 112/200\n",
            "3/3 [==============================] - 0s 31ms/step - loss: 0.3298 - accuracy: 0.9481 - val_loss: 0.5230 - val_accuracy: 0.9333\n",
            "Epoch 113/200\n",
            "3/3 [==============================] - 0s 33ms/step - loss: 0.3272 - accuracy: 0.9556 - val_loss: 0.5090 - val_accuracy: 0.9333\n",
            "Epoch 114/200\n",
            "3/3 [==============================] - 0s 44ms/step - loss: 0.3250 - accuracy: 0.9704 - val_loss: 0.4925 - val_accuracy: 1.0000\n",
            "Epoch 115/200\n",
            "3/3 [==============================] - 0s 79ms/step - loss: 0.3229 - accuracy: 0.9852 - val_loss: 0.4806 - val_accuracy: 1.0000\n",
            "Epoch 116/200\n",
            "3/3 [==============================] - 0s 50ms/step - loss: 0.3209 - accuracy: 0.9852 - val_loss: 0.4856 - val_accuracy: 1.0000\n",
            "Epoch 117/200\n",
            "3/3 [==============================] - 0s 59ms/step - loss: 0.3186 - accuracy: 0.9778 - val_loss: 0.4773 - val_accuracy: 1.0000\n",
            "Epoch 118/200\n",
            "3/3 [==============================] - 0s 28ms/step - loss: 0.3167 - accuracy: 0.9778 - val_loss: 0.4849 - val_accuracy: 1.0000\n",
            "Epoch 119/200\n",
            "3/3 [==============================] - 0s 45ms/step - loss: 0.3142 - accuracy: 0.9778 - val_loss: 0.4897 - val_accuracy: 0.9333\n",
            "Epoch 120/200\n",
            "3/3 [==============================] - 0s 62ms/step - loss: 0.3122 - accuracy: 0.9704 - val_loss: 0.4871 - val_accuracy: 0.9333\n",
            "Epoch 121/200\n",
            "3/3 [==============================] - 0s 47ms/step - loss: 0.3100 - accuracy: 0.9704 - val_loss: 0.4792 - val_accuracy: 1.0000\n",
            "Epoch 122/200\n",
            "3/3 [==============================] - 0s 33ms/step - loss: 0.3080 - accuracy: 0.9704 - val_loss: 0.4730 - val_accuracy: 1.0000\n",
            "Epoch 123/200\n",
            "3/3 [==============================] - 0s 49ms/step - loss: 0.3060 - accuracy: 0.9778 - val_loss: 0.4676 - val_accuracy: 1.0000\n",
            "Epoch 124/200\n",
            "3/3 [==============================] - 0s 32ms/step - loss: 0.3039 - accuracy: 0.9778 - val_loss: 0.4534 - val_accuracy: 1.0000\n",
            "Epoch 125/200\n",
            "3/3 [==============================] - 0s 27ms/step - loss: 0.3022 - accuracy: 0.9778 - val_loss: 0.4465 - val_accuracy: 1.0000\n",
            "Epoch 126/200\n",
            "3/3 [==============================] - 0s 25ms/step - loss: 0.3003 - accuracy: 0.9852 - val_loss: 0.4553 - val_accuracy: 1.0000\n",
            "Epoch 127/200\n",
            "3/3 [==============================] - 0s 37ms/step - loss: 0.2980 - accuracy: 0.9778 - val_loss: 0.4665 - val_accuracy: 1.0000\n",
            "Epoch 128/200\n",
            "3/3 [==============================] - 0s 34ms/step - loss: 0.2961 - accuracy: 0.9704 - val_loss: 0.4656 - val_accuracy: 1.0000\n",
            "Epoch 129/200\n",
            "3/3 [==============================] - 0s 29ms/step - loss: 0.2941 - accuracy: 0.9704 - val_loss: 0.4682 - val_accuracy: 0.9333\n",
            "Epoch 130/200\n",
            "3/3 [==============================] - 0s 23ms/step - loss: 0.2926 - accuracy: 0.9630 - val_loss: 0.4701 - val_accuracy: 0.9333\n",
            "Epoch 131/200\n",
            "3/3 [==============================] - 0s 38ms/step - loss: 0.2905 - accuracy: 0.9630 - val_loss: 0.4623 - val_accuracy: 0.9333\n",
            "Epoch 132/200\n",
            "3/3 [==============================] - 0s 47ms/step - loss: 0.2886 - accuracy: 0.9704 - val_loss: 0.4386 - val_accuracy: 1.0000\n",
            "Epoch 133/200\n",
            "3/3 [==============================] - 0s 28ms/step - loss: 0.2865 - accuracy: 0.9778 - val_loss: 0.4289 - val_accuracy: 1.0000\n",
            "Epoch 134/200\n",
            "3/3 [==============================] - 0s 27ms/step - loss: 0.2850 - accuracy: 0.9778 - val_loss: 0.4196 - val_accuracy: 1.0000\n",
            "Epoch 135/200\n",
            "3/3 [==============================] - 0s 28ms/step - loss: 0.2830 - accuracy: 0.9778 - val_loss: 0.4231 - val_accuracy: 1.0000\n",
            "Epoch 136/200\n",
            "3/3 [==============================] - 0s 21ms/step - loss: 0.2811 - accuracy: 0.9852 - val_loss: 0.4318 - val_accuracy: 1.0000\n",
            "Epoch 137/200\n",
            "3/3 [==============================] - 0s 39ms/step - loss: 0.2791 - accuracy: 0.9778 - val_loss: 0.4411 - val_accuracy: 1.0000\n",
            "Epoch 138/200\n",
            "3/3 [==============================] - 0s 26ms/step - loss: 0.2775 - accuracy: 0.9704 - val_loss: 0.4517 - val_accuracy: 0.9333\n",
            "Epoch 139/200\n",
            "3/3 [==============================] - 0s 29ms/step - loss: 0.2758 - accuracy: 0.9630 - val_loss: 0.4498 - val_accuracy: 0.9333\n",
            "Epoch 140/200\n",
            "3/3 [==============================] - 0s 28ms/step - loss: 0.2747 - accuracy: 0.9630 - val_loss: 0.4474 - val_accuracy: 0.9333\n",
            "Epoch 141/200\n",
            "3/3 [==============================] - 0s 29ms/step - loss: 0.2729 - accuracy: 0.9704 - val_loss: 0.4321 - val_accuracy: 1.0000\n",
            "Epoch 142/200\n",
            "3/3 [==============================] - 0s 29ms/step - loss: 0.2706 - accuracy: 0.9778 - val_loss: 0.4272 - val_accuracy: 1.0000\n",
            "Epoch 143/200\n",
            "3/3 [==============================] - 0s 26ms/step - loss: 0.2689 - accuracy: 0.9778 - val_loss: 0.4218 - val_accuracy: 1.0000\n",
            "Epoch 144/200\n",
            "3/3 [==============================] - 0s 30ms/step - loss: 0.2671 - accuracy: 0.9778 - val_loss: 0.4100 - val_accuracy: 1.0000\n",
            "Epoch 145/200\n",
            "3/3 [==============================] - 0s 31ms/step - loss: 0.2653 - accuracy: 0.9778 - val_loss: 0.4037 - val_accuracy: 1.0000\n",
            "Epoch 146/200\n",
            "3/3 [==============================] - 0s 43ms/step - loss: 0.2647 - accuracy: 0.9778 - val_loss: 0.3927 - val_accuracy: 1.0000\n",
            "Epoch 147/200\n",
            "3/3 [==============================] - 0s 30ms/step - loss: 0.2621 - accuracy: 0.9778 - val_loss: 0.4046 - val_accuracy: 1.0000\n",
            "Epoch 148/200\n",
            "3/3 [==============================] - 0s 57ms/step - loss: 0.2603 - accuracy: 0.9778 - val_loss: 0.4170 - val_accuracy: 1.0000\n",
            "Epoch 149/200\n",
            "3/3 [==============================] - 0s 30ms/step - loss: 0.2592 - accuracy: 0.9704 - val_loss: 0.4265 - val_accuracy: 0.9333\n",
            "Epoch 150/200\n",
            "3/3 [==============================] - 0s 33ms/step - loss: 0.2576 - accuracy: 0.9704 - val_loss: 0.4206 - val_accuracy: 0.9333\n",
            "Epoch 151/200\n",
            "3/3 [==============================] - 0s 20ms/step - loss: 0.2560 - accuracy: 0.9630 - val_loss: 0.4151 - val_accuracy: 1.0000\n",
            "Epoch 152/200\n",
            "3/3 [==============================] - 0s 38ms/step - loss: 0.2540 - accuracy: 0.9778 - val_loss: 0.3984 - val_accuracy: 1.0000\n",
            "Epoch 153/200\n",
            "3/3 [==============================] - 0s 37ms/step - loss: 0.2529 - accuracy: 0.9778 - val_loss: 0.3895 - val_accuracy: 1.0000\n",
            "Epoch 154/200\n",
            "3/3 [==============================] - 0s 43ms/step - loss: 0.2511 - accuracy: 0.9852 - val_loss: 0.3640 - val_accuracy: 1.0000\n",
            "Epoch 155/200\n",
            "3/3 [==============================] - 0s 23ms/step - loss: 0.2502 - accuracy: 0.9778 - val_loss: 0.3537 - val_accuracy: 1.0000\n",
            "Epoch 156/200\n",
            "3/3 [==============================] - 0s 26ms/step - loss: 0.2485 - accuracy: 0.9778 - val_loss: 0.3590 - val_accuracy: 1.0000\n",
            "Epoch 157/200\n",
            "3/3 [==============================] - 0s 22ms/step - loss: 0.2467 - accuracy: 0.9778 - val_loss: 0.3794 - val_accuracy: 1.0000\n",
            "Epoch 158/200\n",
            "3/3 [==============================] - 0s 34ms/step - loss: 0.2447 - accuracy: 0.9778 - val_loss: 0.3930 - val_accuracy: 1.0000\n",
            "Epoch 159/200\n",
            "3/3 [==============================] - 0s 52ms/step - loss: 0.2433 - accuracy: 0.9778 - val_loss: 0.4010 - val_accuracy: 1.0000\n",
            "Epoch 160/200\n",
            "3/3 [==============================] - 0s 50ms/step - loss: 0.2423 - accuracy: 0.9704 - val_loss: 0.4029 - val_accuracy: 0.9333\n",
            "Epoch 161/200\n",
            "3/3 [==============================] - 0s 49ms/step - loss: 0.2407 - accuracy: 0.9704 - val_loss: 0.3926 - val_accuracy: 1.0000\n",
            "Epoch 162/200\n",
            "3/3 [==============================] - 0s 43ms/step - loss: 0.2390 - accuracy: 0.9778 - val_loss: 0.3770 - val_accuracy: 1.0000\n",
            "Epoch 163/200\n",
            "3/3 [==============================] - 0s 45ms/step - loss: 0.2377 - accuracy: 0.9778 - val_loss: 0.3682 - val_accuracy: 1.0000\n",
            "Epoch 164/200\n",
            "3/3 [==============================] - 0s 73ms/step - loss: 0.2360 - accuracy: 0.9778 - val_loss: 0.3517 - val_accuracy: 1.0000\n",
            "Epoch 165/200\n",
            "3/3 [==============================] - 0s 36ms/step - loss: 0.2351 - accuracy: 0.9778 - val_loss: 0.3385 - val_accuracy: 1.0000\n",
            "Epoch 166/200\n",
            "3/3 [==============================] - 0s 42ms/step - loss: 0.2341 - accuracy: 0.9778 - val_loss: 0.3439 - val_accuracy: 1.0000\n",
            "Epoch 167/200\n",
            "3/3 [==============================] - 0s 30ms/step - loss: 0.2328 - accuracy: 0.9778 - val_loss: 0.3509 - val_accuracy: 1.0000\n",
            "Epoch 168/200\n",
            "3/3 [==============================] - 0s 41ms/step - loss: 0.2307 - accuracy: 0.9778 - val_loss: 0.3478 - val_accuracy: 1.0000\n",
            "Epoch 169/200\n",
            "3/3 [==============================] - 0s 28ms/step - loss: 0.2296 - accuracy: 0.9778 - val_loss: 0.3511 - val_accuracy: 1.0000\n",
            "Epoch 170/200\n",
            "3/3 [==============================] - 0s 44ms/step - loss: 0.2282 - accuracy: 0.9778 - val_loss: 0.3509 - val_accuracy: 1.0000\n",
            "Epoch 171/200\n",
            "3/3 [==============================] - 0s 35ms/step - loss: 0.2269 - accuracy: 0.9778 - val_loss: 0.3467 - val_accuracy: 1.0000\n",
            "Epoch 172/200\n",
            "3/3 [==============================] - 0s 26ms/step - loss: 0.2256 - accuracy: 0.9852 - val_loss: 0.3503 - val_accuracy: 1.0000\n",
            "Epoch 173/200\n",
            "3/3 [==============================] - 0s 32ms/step - loss: 0.2241 - accuracy: 0.9852 - val_loss: 0.3442 - val_accuracy: 1.0000\n",
            "Epoch 174/200\n",
            "3/3 [==============================] - 0s 28ms/step - loss: 0.2228 - accuracy: 0.9778 - val_loss: 0.3426 - val_accuracy: 1.0000\n",
            "Epoch 175/200\n",
            "3/3 [==============================] - 0s 34ms/step - loss: 0.2216 - accuracy: 0.9778 - val_loss: 0.3474 - val_accuracy: 1.0000\n",
            "Epoch 176/200\n",
            "3/3 [==============================] - 0s 45ms/step - loss: 0.2202 - accuracy: 0.9778 - val_loss: 0.3515 - val_accuracy: 1.0000\n",
            "Epoch 177/200\n",
            "3/3 [==============================] - 0s 23ms/step - loss: 0.2190 - accuracy: 0.9778 - val_loss: 0.3517 - val_accuracy: 1.0000\n",
            "Epoch 178/200\n",
            "3/3 [==============================] - 0s 27ms/step - loss: 0.2178 - accuracy: 0.9778 - val_loss: 0.3484 - val_accuracy: 1.0000\n",
            "Epoch 179/200\n",
            "3/3 [==============================] - 0s 39ms/step - loss: 0.2164 - accuracy: 0.9778 - val_loss: 0.3388 - val_accuracy: 1.0000\n",
            "Epoch 180/200\n",
            "3/3 [==============================] - 0s 33ms/step - loss: 0.2153 - accuracy: 0.9852 - val_loss: 0.3314 - val_accuracy: 1.0000\n",
            "Epoch 181/200\n",
            "3/3 [==============================] - 0s 58ms/step - loss: 0.2142 - accuracy: 0.9778 - val_loss: 0.3309 - val_accuracy: 1.0000\n",
            "Epoch 182/200\n",
            "3/3 [==============================] - 0s 29ms/step - loss: 0.2128 - accuracy: 0.9778 - val_loss: 0.3218 - val_accuracy: 1.0000\n",
            "Epoch 183/200\n",
            "3/3 [==============================] - 0s 20ms/step - loss: 0.2120 - accuracy: 0.9778 - val_loss: 0.3155 - val_accuracy: 1.0000\n",
            "Epoch 184/200\n",
            "3/3 [==============================] - 0s 22ms/step - loss: 0.2111 - accuracy: 0.9778 - val_loss: 0.3286 - val_accuracy: 1.0000\n",
            "Epoch 185/200\n",
            "3/3 [==============================] - 0s 26ms/step - loss: 0.2093 - accuracy: 0.9778 - val_loss: 0.3290 - val_accuracy: 1.0000\n",
            "Epoch 186/200\n",
            "3/3 [==============================] - 0s 29ms/step - loss: 0.2082 - accuracy: 0.9778 - val_loss: 0.3318 - val_accuracy: 1.0000\n",
            "Epoch 187/200\n",
            "3/3 [==============================] - 0s 23ms/step - loss: 0.2070 - accuracy: 0.9778 - val_loss: 0.3292 - val_accuracy: 1.0000\n",
            "Epoch 188/200\n",
            "3/3 [==============================] - 0s 31ms/step - loss: 0.2064 - accuracy: 0.9778 - val_loss: 0.3167 - val_accuracy: 1.0000\n",
            "Epoch 189/200\n",
            "3/3 [==============================] - 0s 41ms/step - loss: 0.2047 - accuracy: 0.9778 - val_loss: 0.3198 - val_accuracy: 1.0000\n",
            "Epoch 190/200\n",
            "3/3 [==============================] - 0s 58ms/step - loss: 0.2036 - accuracy: 0.9778 - val_loss: 0.3211 - val_accuracy: 1.0000\n",
            "Epoch 191/200\n",
            "3/3 [==============================] - 0s 26ms/step - loss: 0.2027 - accuracy: 0.9778 - val_loss: 0.3270 - val_accuracy: 1.0000\n",
            "Epoch 192/200\n",
            "3/3 [==============================] - 0s 50ms/step - loss: 0.2014 - accuracy: 0.9778 - val_loss: 0.3237 - val_accuracy: 1.0000\n",
            "Epoch 193/200\n",
            "3/3 [==============================] - 0s 54ms/step - loss: 0.2003 - accuracy: 0.9778 - val_loss: 0.3156 - val_accuracy: 1.0000\n",
            "Epoch 194/200\n",
            "3/3 [==============================] - 0s 22ms/step - loss: 0.1993 - accuracy: 0.9778 - val_loss: 0.3061 - val_accuracy: 1.0000\n",
            "Epoch 195/200\n",
            "3/3 [==============================] - 0s 43ms/step - loss: 0.1981 - accuracy: 0.9778 - val_loss: 0.3015 - val_accuracy: 1.0000\n",
            "Epoch 196/200\n",
            "3/3 [==============================] - 0s 25ms/step - loss: 0.1972 - accuracy: 0.9778 - val_loss: 0.2985 - val_accuracy: 1.0000\n",
            "Epoch 197/200\n",
            "3/3 [==============================] - 0s 38ms/step - loss: 0.1966 - accuracy: 0.9778 - val_loss: 0.3057 - val_accuracy: 1.0000\n",
            "Epoch 198/200\n",
            "3/3 [==============================] - 0s 45ms/step - loss: 0.1950 - accuracy: 0.9778 - val_loss: 0.3006 - val_accuracy: 1.0000\n",
            "Epoch 199/200\n",
            "3/3 [==============================] - 0s 65ms/step - loss: 0.1942 - accuracy: 0.9778 - val_loss: 0.2919 - val_accuracy: 1.0000\n",
            "Epoch 200/200\n",
            "3/3 [==============================] - 0s 37ms/step - loss: 0.1931 - accuracy: 0.9778 - val_loss: 0.2859 - val_accuracy: 1.0000\n"
          ]
        }
      ]
    },
    {
      "cell_type": "code",
      "source": [
        "# Plotting Accuracy of Training and Validation set against Epochs\n",
        "plt.plot(history.history['accuracy'])\n",
        "plt.plot(history.history['val_accuracy'])\n",
        "plt.title('Accuracy vs Epochs')\n",
        "plt.ylabel('Accuracy')\n",
        "plt.xlabel('Epoch')\n",
        "plt.legend(['Train', 'Validation'], loc='lower right')\n",
        "plt.show()"
      ],
      "metadata": {
        "colab": {
          "base_uri": "https://localhost:8080/",
          "height": 295
        },
        "id": "eYjRiD8q8VLO",
        "outputId": "7cd21f0c-2898-4ca6-c2a9-5ac53bbd2446"
      },
      "execution_count": 9,
      "outputs": [
        {
          "output_type": "display_data",
          "data": {
            "image/png": "[encoded data removed]",
            "text/plain": [
              "<Figure size 432x288 with 1 Axes>"
            ]
          },
          "metadata": {
            "needs_background": "light"
          }
        }
      ]
    },
    {
      "cell_type": "code",
      "source": [
        "# Model evaluation on the test set\n",
        "model.evaluate(X_test, y_test, verbose = 1)\n",
        "test_pred = np.round(model.predict(X_test))"
      ],
      "metadata": {
        "colab": {
          "base_uri": "https://localhost:8080/"
        },
        "id": "WyEXAMGw9TB1",
        "outputId": "b9700077-ebae-4ba2-e250-13a5ae1c6b6f"
      },
      "execution_count": 10,
      "outputs": [
        {
          "output_type": "stream",
          "name": "stdout",
          "text": [
            "1/1 [==============================] - 0s 38ms/step - loss: 0.2022 - accuracy: 1.0000\n"
          ]
        }
      ]
    },
    {
      "cell_type": "code",
      "source": [
        "# Printing the classification report\n",
        "from sklearn.metrics import classification_report\n",
        "print(classification_report(y_test, test_pred))"
      ],
      "metadata": {
        "colab": {
          "base_uri": "https://localhost:8080/"
        },
        "id": "ftYj5RZU9d8a",
        "outputId": "b6fd0e9e-040a-4e76-e0be-15b8a971626c"
      },
      "execution_count": 11,
      "outputs": [
        {
          "output_type": "stream",
          "name": "stdout",
          "text": [
            "              precision    recall  f1-score   support\n",
            "\n",
            "           0       1.00      1.00      1.00        10\n",
            "           1       1.00      1.00      1.00         9\n",
            "           2       1.00      1.00      1.00        11\n",
            "\n",
            "   micro avg       1.00      1.00      1.00        30\n",
            "   macro avg       1.00      1.00      1.00        30\n",
            "weighted avg       1.00      1.00      1.00        30\n",
            " samples avg       1.00      1.00      1.00        30\n",
            "\n"
          ]
        }
      ]
    }
  ]
}